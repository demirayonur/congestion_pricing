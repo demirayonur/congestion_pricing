{
 "cells": [
  {
   "cell_type": "code",
   "execution_count": 1,
   "id": "f33db403",
   "metadata": {},
   "outputs": [],
   "source": [
    "import sys\n",
    "\n",
    "sys.path.insert(1, '/Users/od721/Desktop/congestion_pricing/src')\n",
    "\n",
    "import random_instance\n",
    "import gurobi_base"
   ]
  },
  {
   "cell_type": "code",
   "execution_count": 2,
   "id": "e711fecb",
   "metadata": {},
   "outputs": [],
   "source": [
    "n_node, n_arc, n_commodity, my_seed = 20,40,5,10"
   ]
  },
  {
   "cell_type": "code",
   "execution_count": 3,
   "id": "f21f80a5",
   "metadata": {},
   "outputs": [],
   "source": [
    "our_instance = random_instance.Instance(n_node, n_arc, n_commodity, my_seed)"
   ]
  },
  {
   "cell_type": "code",
   "execution_count": 4,
   "id": "23e37705",
   "metadata": {},
   "outputs": [
    {
     "name": "stdout",
     "output_type": "stream",
     "text": [
      "Set parameter Username\n",
      "Academic license - for non-commercial use only - expires 2022-07-12\n",
      "Set parameter TimeLimit to value 3600\n",
      "Gurobi Optimizer version 9.5.1 build v9.5.1rc2 (mac64[rosetta2])\n",
      "Thread count: 8 physical cores, 8 logical processors, using up to 8 threads\n",
      "Optimize a model with 300 rows, 340 columns and 1120 nonzeros\n",
      "Model fingerprint: 0xad032505\n",
      "Model has 40 quadratic objective terms\n",
      "Variable types: 300 continuous, 40 integer (40 binary)\n",
      "Coefficient statistics:\n",
      "  Matrix range     [1e+00, 3e+02]\n",
      "  Objective range  [2e+00, 2e+00]\n",
      "  QObjective range [2e+00, 4e+00]\n",
      "  Bounds range     [1e+00, 1e+00]\n",
      "  RHS range        [2e+00, 3e+02]\n",
      "Found heuristic solution: objective 7941.6400000\n",
      "Presolve removed 79 rows and 91 columns\n",
      "Presolve time: 0.00s\n",
      "Presolved: 221 rows, 249 columns, 914 nonzeros\n",
      "Presolved model has 35 quadratic objective terms\n",
      "Variable types: 217 continuous, 32 integer (32 binary)\n",
      "\n",
      "Root relaxation: objective 6.988554e+03, 171 iterations, 0.00 seconds (0.00 work units)\n",
      "\n",
      "    Nodes    |    Current Node    |     Objective Bounds      |     Work\n",
      " Expl Unexpl |  Obj  Depth IntInf | Incumbent    BestBd   Gap | It/Node Time\n",
      "\n",
      "     0     0 6988.55358    0    6 7941.64000 6988.55358  12.0%     -    0s\n",
      "H    0     0                    6989.7354124 6988.55358  0.02%     -    0s\n",
      "     0     0 6988.55358    0    1 6989.73541 6988.55358  0.02%     -    0s\n",
      "H    0     0                    6988.5535836 6988.55358  0.00%     -    0s\n",
      "     0     0 6988.55358    0    1 6988.55358 6988.55358  0.00%     -    0s\n",
      "\n",
      "Cutting planes:\n",
      "  Implied bound: 1\n",
      "\n",
      "Explored 1 nodes (198 simplex iterations) in 0.02 seconds (0.00 work units)\n",
      "Thread count was 8 (of 8 available processors)\n",
      "\n",
      "Solution count 3: 6988.55 6989.74 7941.64 \n",
      "\n",
      "Optimal solution found (tolerance 1.00e-04)\n",
      "Best objective 6.988553583568e+03, best bound 6.988553583568e+03, gap 0.0000%\n"
     ]
    },
    {
     "data": {
      "text/plain": [
       "6988.553583568079"
      ]
     },
     "execution_count": 4,
     "metadata": {},
     "output_type": "execute_result"
    }
   ],
   "source": [
    "gurobi_base.optimize_by_gurobi(our_instance,3600)"
   ]
  }
 ],
 "metadata": {
  "kernelspec": {
   "display_name": "Python 3 (ipykernel)",
   "language": "python",
   "name": "python3"
  },
  "language_info": {
   "codemirror_mode": {
    "name": "ipython",
    "version": 3
   },
   "file_extension": ".py",
   "mimetype": "text/x-python",
   "name": "python",
   "nbconvert_exporter": "python",
   "pygments_lexer": "ipython3",
   "version": "3.9.7"
  }
 },
 "nbformat": 4,
 "nbformat_minor": 5
}
