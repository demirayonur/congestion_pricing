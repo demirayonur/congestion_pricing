{
 "cells": [
  {
   "cell_type": "code",
   "execution_count": 1,
   "id": "0c0f1cc9",
   "metadata": {},
   "outputs": [],
   "source": [
    "import sys\n",
    "\n",
    "sys.path.insert(1, '/Users/od721/Desktop/congestion_pricing/src')\n",
    "\n",
    "import random_instance\n",
    "import gurobi_base\n",
    "\n",
    "import pandas as pd\n",
    "import numpy as np\n",
    "import time"
   ]
  },
  {
   "cell_type": "code",
   "execution_count": 2,
   "id": "ac15edcf",
   "metadata": {},
   "outputs": [],
   "source": [
    "n_node, n_arc, n_com, my_seed = 500, 1000, 125, 10"
   ]
  },
  {
   "cell_type": "code",
   "execution_count": 3,
   "id": "e97b00a5",
   "metadata": {},
   "outputs": [],
   "source": [
    "ins_ = random_instance.Instance(n_node, n_arc, n_com, my_seed)"
   ]
  },
  {
   "cell_type": "code",
   "execution_count": 4,
   "id": "b7467a0d",
   "metadata": {},
   "outputs": [],
   "source": [
    "start = time.time()"
   ]
  },
  {
   "cell_type": "code",
   "execution_count": 5,
   "id": "da2f16e2",
   "metadata": {},
   "outputs": [
    {
     "name": "stdout",
     "output_type": "stream",
     "text": [
      "Set parameter Username\n",
      "Academic license - for non-commercial use only - expires 2022-07-12\n",
      "Set parameter TimeLimit to value 3600\n",
      "Gurobi Optimizer version 9.5.1 build v9.5.1rc2 (mac64[rosetta2])\n",
      "Thread count: 8 physical cores, 8 logical processors, using up to 8 threads\n",
      "Optimize a model with 67500 rows, 128500 columns and 388000 nonzeros\n",
      "Model fingerprint: 0x11328789\n",
      "Model has 1000 quadratic objective terms\n",
      "Variable types: 127500 continuous, 1000 integer (1000 binary)\n",
      "Coefficient statistics:\n",
      "  Matrix range     [1e+00, 7e+03]\n",
      "  Objective range  [2e+00, 2e+00]\n",
      "  QObjective range [2e+00, 4e+00]\n",
      "  Bounds range     [1e+00, 1e+00]\n",
      "  RHS range        [2e+00, 7e+03]\n",
      "Found heuristic solution: objective 189109.14000\n",
      "Presolve removed 49096 rows and 81434 columns\n",
      "Presolve time: 0.34s\n",
      "Presolved: 18404 rows, 47066 columns, 157422 nonzeros\n",
      "Presolved model has 752 quadratic objective terms\n",
      "Variable types: 46391 continuous, 675 integer (675 binary)\n",
      "\n",
      "Root simplex log...\n",
      "\n",
      "Iteration    Objective       Primal Inf.    Dual Inf.      Time\n",
      "   36974    1.2365015e+05   3.176194e+03   0.000000e+00      5s\n",
      "   56214    1.3707411e+05   2.214597e+03   0.000000e+00     10s\n",
      "   72425    1.4197531e+05   6.037216e+03   0.000000e+00     15s\n",
      "   86584    1.5029133e+05   2.084028e+03   0.000000e+00     20s\n",
      "   99072    1.5529076e+05   2.166811e+03   0.000000e+00     25s\n",
      "  110953    1.5703185e+05   1.684663e+03   0.000000e+00     30s\n",
      "  122185    1.6121903e+05   5.427930e+03   0.000000e+00     35s\n",
      "  133015    1.6286657e+05   7.842165e+03   0.000000e+00     40s\n",
      "  142720    1.6474577e+05   2.298079e+03   0.000000e+00     45s\n",
      "  152261    1.6683582e+05   3.010231e+03   0.000000e+00     50s\n",
      "  161698    1.6751483e+05   1.188685e+03   0.000000e+00     55s\n",
      "  170435    1.6855881e+05   1.845488e+03   0.000000e+00     60s\n",
      "  179333    1.6914077e+05   3.553932e+03   0.000000e+00     65s\n",
      "  187531    1.7023859e+05   3.457327e+03   0.000000e+00     70s\n",
      "  195281    1.7095962e+05   4.409174e+03   0.000000e+00     75s\n",
      "  203105    1.7213351e+05   1.308483e+03   0.000000e+00     80s\n",
      "  211078    1.7261937e+05   2.470833e+03   0.000000e+00     85s\n",
      "  219055    1.7328703e+05   1.302446e+03   0.000000e+00     90s\n",
      "  226733    1.7362553e+05   1.033381e+03   0.000000e+00     95s\n",
      "  234286    1.7387664e+05   1.565359e+03   0.000000e+00    100s\n",
      "  241577    1.7408221e+05   5.737585e+03   0.000000e+00    105s\n",
      "  248373    1.7437459e+05   1.651957e+03   0.000000e+00    110s\n",
      "  254950    1.7461921e+05   7.098648e+03   0.000000e+00    115s\n",
      "  261618    1.7487622e+05   1.288758e+03   0.000000e+00    120s\n",
      "  268315    1.7519550e+05   1.870475e+03   0.000000e+00    125s\n",
      "  274972    1.7559091e+05   2.446887e+03   0.000000e+00    130s\n",
      "  281941    1.7598344e+05   1.334781e+03   0.000000e+00    135s\n",
      "  288836    1.7614971e+05   3.419756e+03   0.000000e+00    140s\n",
      "  295050    1.7638921e+05   1.112902e+03   0.000000e+00    145s\n",
      "  301564    1.7656189e+05   2.595218e+03   0.000000e+00    150s\n",
      "  308081    1.7672944e+05   1.087813e+03   0.000000e+00    155s\n",
      "  314221    1.7700101e+05   1.146727e+03   0.000000e+00    160s\n",
      "  320355    1.7741921e+05   7.691511e+03   0.000000e+00    165s\n",
      "  326422    1.7762746e+05   2.656838e+03   0.000000e+00    170s\n",
      "  332399    1.7788600e+05   8.398481e+02   0.000000e+00    175s\n",
      "  338246    1.7803251e+05   7.752594e+02   0.000000e+00    180s\n",
      "  343987    1.7816766e+05   9.813925e+02   0.000000e+00    185s\n",
      "  349791    1.7828290e+05   1.221608e+03   0.000000e+00    190s\n",
      "  355762    1.7841391e+05   1.739144e+03   0.000000e+00    195s\n",
      "  361542    1.7854201e+05   7.838568e+02   0.000000e+00    200s\n",
      "  367200    1.7866664e+05   6.068055e+03   0.000000e+00    205s\n",
      "  372805    1.7878092e+05   1.408781e+03   0.000000e+00    210s\n",
      "  378540    1.7892471e+05   1.577852e+03   0.000000e+00    215s\n",
      "  384175    1.7903793e+05   1.220041e+03   0.000000e+00    220s\n",
      "  389855    1.7913260e+05   7.725678e+02   0.000000e+00    225s\n",
      "  395295    1.7927277e+05   1.175352e+03   0.000000e+00    230s\n",
      "  400836    1.7937263e+05   9.549208e+02   0.000000e+00    235s\n",
      "  405906    1.7948473e+05   8.969495e+02   0.000000e+00    240s\n",
      "  411136    1.7959743e+05   5.435574e+02   0.000000e+00    245s\n",
      "  416576    1.7969562e+05   1.845323e+03   0.000000e+00    250s\n",
      "  421936    1.7979625e+05   6.662311e+02   0.000000e+00    255s\n",
      "  427206    1.7990372e+05   8.490119e+02   0.000000e+00    260s\n",
      "  432126    1.8000749e+05   7.853317e+02   0.000000e+00    265s\n",
      "  437356    1.8009086e+05   4.005004e+02   0.000000e+00    270s\n",
      "  442256    1.8018256e+05   5.658574e+02   0.000000e+00    275s\n",
      "  447066    1.8029470e+05   7.836516e+02   0.000000e+00    280s\n",
      "  451456    1.8039488e+05   1.032848e+03   0.000000e+00    285s\n",
      "  455916    1.8050734e+05   4.031182e+02   0.000000e+00    290s\n",
      "  460466    1.8061279e+05   3.632681e+02   0.000000e+00    295s\n",
      "  465066    1.8070857e+05   3.019698e+02   0.000000e+00    300s\n",
      "  469446    1.8079904e+05   6.908824e+02   0.000000e+00    305s\n",
      "  474063    1.8089137e+05   5.689743e+02   0.000000e+00    310s\n",
      "  478403    1.8099071e+05   3.640471e+02   0.000000e+00    315s\n",
      "  482877    1.8108428e+05   2.846639e+02   0.000000e+00    320s\n",
      "  487324    1.8118684e+05   1.619542e+02   0.000000e+00    325s\n",
      "  491771    1.8125917e+05   1.331874e+02   0.000000e+00    330s\n",
      "  495861    1.8132349e+05   1.045957e+02   0.000000e+00    335s\n",
      "  499811    1.8137885e+05   7.292058e+01   0.000000e+00    340s\n",
      "  503971    1.8141570e+05   1.427393e+01   0.000000e+00    345s\n",
      "  516231    1.8141837e+05   0.000000e+00   0.000000e+00    348s\n",
      "\n",
      "Root relaxation: objective 1.814184e+05, 516231 iterations, 347.75 seconds (1281.97 work units)\n",
      "\n",
      "    Nodes    |    Current Node    |     Objective Bounds      |     Work\n",
      " Expl Unexpl |  Obj  Depth IntInf | Incumbent    BestBd   Gap | It/Node Time\n",
      "\n",
      "     0     0 181418.374    0    1 189109.140 181418.374  4.07%     -  350s\n",
      "H    0     0                    181418.37413 181418.374  0.00%     -  350s\n",
      "     0     0 181418.374    0    1 181418.374 181418.374  0.00%     -  350s\n",
      "\n",
      "Explored 1 nodes (516231 simplex iterations) in 350.22 seconds (1282.55 work units)\n",
      "Thread count was 8 (of 8 available processors)\n",
      "\n",
      "Solution count 2: 181418 189109 \n",
      "\n",
      "Optimal solution found (tolerance 1.00e-04)\n",
      "Best objective 1.814183741311e+05, best bound 1.814183741311e+05, gap 0.0000%\n"
     ]
    }
   ],
   "source": [
    "obj_gurobi, gap_gurobi, time_gurobi = gurobi_base.optimize_by_gurobi(ins_, 3600, log_output=True)"
   ]
  },
  {
   "cell_type": "code",
   "execution_count": 6,
   "id": "91e79d21",
   "metadata": {},
   "outputs": [],
   "source": [
    "end = time.time()"
   ]
  },
  {
   "cell_type": "code",
   "execution_count": 7,
   "id": "2852bdd5",
   "metadata": {},
   "outputs": [
    {
     "name": "stdout",
     "output_type": "stream",
     "text": [
      "my measurement: 1726.2965621948242\n"
     ]
    }
   ],
   "source": [
    "print(\"my measurement: \" + str(end-start))"
   ]
  },
  {
   "cell_type": "code",
   "execution_count": 8,
   "id": "917b2777",
   "metadata": {},
   "outputs": [
    {
     "name": "stdout",
     "output_type": "stream",
     "text": [
      "gurobi measurement: 350.2267210483551\n"
     ]
    }
   ],
   "source": [
    "print(\"gurobi measurement: \" + str(time_gurobi))"
   ]
  }
 ],
 "metadata": {
  "kernelspec": {
   "display_name": "Python 3 (ipykernel)",
   "language": "python",
   "name": "python3"
  },
  "language_info": {
   "codemirror_mode": {
    "name": "ipython",
    "version": 3
   },
   "file_extension": ".py",
   "mimetype": "text/x-python",
   "name": "python",
   "nbconvert_exporter": "python",
   "pygments_lexer": "ipython3",
   "version": "3.9.7"
  }
 },
 "nbformat": 4,
 "nbformat_minor": 5
}
