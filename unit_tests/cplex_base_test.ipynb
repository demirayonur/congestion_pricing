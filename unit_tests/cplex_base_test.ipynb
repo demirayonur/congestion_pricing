{
 "cells": [
  {
   "cell_type": "code",
   "execution_count": null,
   "id": "e12238a5",
   "metadata": {},
   "outputs": [],
   "source": [
    "import sys\n",
    "\n",
    "sys.path.insert(1, '/Users/od721/Desktop/congestion_pricing/src')\n",
    "\n",
    "import random_instance\n",
    "import cplex_base"
   ]
  },
  {
   "cell_type": "code",
   "execution_count": null,
   "id": "74f6650b",
   "metadata": {},
   "outputs": [],
   "source": [
    "n_node, n_arc, n_commodity, my_seed = 20,40,5,10"
   ]
  },
  {
   "cell_type": "code",
   "execution_count": null,
   "id": "ce4ea757",
   "metadata": {},
   "outputs": [],
   "source": [
    "our_instance = random_instance.Instance(n_node, n_arc, n_commodity, my_seed)"
   ]
  },
  {
   "cell_type": "code",
   "execution_count": null,
   "id": "27d14cc2",
   "metadata": {},
   "outputs": [],
   "source": [
    "cplex_base.optimize_by_cplex(our_instance,3600)"
   ]
  },
  {
   "cell_type": "code",
   "execution_count": null,
   "id": "342f0511",
   "metadata": {},
   "outputs": [],
   "source": []
  }
 ],
 "metadata": {
  "kernelspec": {
   "display_name": "Python 3 (ipykernel)",
   "language": "python",
   "name": "python3"
  },
  "language_info": {
   "codemirror_mode": {
    "name": "ipython",
    "version": 3
   },
   "file_extension": ".py",
   "mimetype": "text/x-python",
   "name": "python",
   "nbconvert_exporter": "python",
   "pygments_lexer": "ipython3",
   "version": "3.9.7"
  }
 },
 "nbformat": 4,
 "nbformat_minor": 5
}
