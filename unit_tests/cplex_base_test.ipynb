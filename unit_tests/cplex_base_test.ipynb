{
 "cells": [
  {
   "cell_type": "code",
   "execution_count": 1,
   "id": "4d6a4401",
   "metadata": {},
   "outputs": [],
   "source": [
    "import sys\n",
    "\n",
    "sys.path.insert(1, '/Users/od721/Desktop/congestion_pricing/src')\n",
    "\n",
    "import random_instance\n",
    "import cplex_base"
   ]
  },
  {
   "cell_type": "code",
   "execution_count": 2,
   "id": "2016255f",
   "metadata": {},
   "outputs": [],
   "source": [
    "n_node, n_arc, n_commodity, my_seed = 20,40,5,10"
   ]
  },
  {
   "cell_type": "code",
   "execution_count": 3,
   "id": "bf7d8878",
   "metadata": {},
   "outputs": [],
   "source": [
    "our_instance = random_instance.Instance(n_node, n_arc, n_commodity, my_seed)"
   ]
  },
  {
   "cell_type": "code",
   "execution_count": 4,
   "id": "a91b007e",
   "metadata": {},
   "outputs": [],
   "source": [
    "obj_val, gap_val, time = cplex_base.optimize_by_cplex(our_instance,3600)"
   ]
  },
  {
   "cell_type": "code",
   "execution_count": 5,
   "id": "c0b8d4d1",
   "metadata": {},
   "outputs": [
    {
     "data": {
      "text/plain": [
       "6988.5535835680785"
      ]
     },
     "execution_count": 5,
     "metadata": {},
     "output_type": "execute_result"
    }
   ],
   "source": [
    "obj_val"
   ]
  },
  {
   "cell_type": "code",
   "execution_count": 6,
   "id": "8f05cb4c",
   "metadata": {},
   "outputs": [
    {
     "data": {
      "text/plain": [
       "0.0"
      ]
     },
     "execution_count": 6,
     "metadata": {},
     "output_type": "execute_result"
    }
   ],
   "source": [
    "gap_val"
   ]
  },
  {
   "cell_type": "code",
   "execution_count": 7,
   "id": "d9e46d59",
   "metadata": {},
   "outputs": [
    {
     "data": {
      "text/plain": [
       "0.053932905197143555"
      ]
     },
     "execution_count": 7,
     "metadata": {},
     "output_type": "execute_result"
    }
   ],
   "source": [
    "time"
   ]
  }
 ],
 "metadata": {
  "kernelspec": {
   "display_name": "Python 3 (ipykernel)",
   "language": "python",
   "name": "python3"
  },
  "language_info": {
   "codemirror_mode": {
    "name": "ipython",
    "version": 3
   },
   "file_extension": ".py",
   "mimetype": "text/x-python",
   "name": "python",
   "nbconvert_exporter": "python",
   "pygments_lexer": "ipython3",
   "version": "3.9.7"
  }
 },
 "nbformat": 4,
 "nbformat_minor": 5
}
