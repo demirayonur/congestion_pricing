{
 "cells": [
  {
   "cell_type": "code",
   "execution_count": 1,
   "id": "ae50b603",
   "metadata": {},
   "outputs": [],
   "source": [
    "import sys\n",
    "\n",
    "sys.path.insert(1, '/Users/od721/Desktop/congestion_pricing/src')\n",
    "\n",
    "import random_instance\n",
    "import gurobi_base\n",
    "import cplex_base\n",
    "\n",
    "import pandas as pd\n",
    "import numpy as np\n",
    "\n",
    "import time"
   ]
  },
  {
   "cell_type": "code",
   "execution_count": 2,
   "id": "e0e6568b",
   "metadata": {},
   "outputs": [
    {
     "name": "stdout",
     "output_type": "stream",
     "text": [
      "ncom_50_seed_10\n",
      "Set parameter Username\n",
      "Academic license - for non-commercial use only - expires 2022-07-12\n",
      "ncom_50_seed_20\n",
      "ncom_50_seed_30\n",
      "Optimization was stopped\n"
     ]
    },
    {
     "ename": "SystemExit",
     "evalue": "0",
     "output_type": "error",
     "traceback": [
      "An exception has occurred, use %tb to see the full traceback.\n",
      "\u001b[0;31mSystemExit\u001b[0m\u001b[0;31m:\u001b[0m 0\n"
     ]
    },
    {
     "name": "stderr",
     "output_type": "stream",
     "text": [
      "/Users/od721/opt/anaconda3/lib/python3.9/site-packages/IPython/core/interactiveshell.py:3452: UserWarning: To exit: use 'exit', 'quit', or Ctrl-D.\n",
      "  warn(\"To exit: use 'exit', 'quit', or Ctrl-D.\", stacklevel=1)\n"
     ]
    }
   ],
   "source": [
    "coms = [50,75,100]\n",
    "seeds = [10, 20, 30, 40, 50]\n",
    "network_opts = [(100,200), (150,300), (250,500)]                \n",
    "for n_commodity in coms:\n",
    "    for seed in seeds:\n",
    "        print('ncom_' + str(n_commodity) + '_seed_' + str(seed))\n",
    "        head_ = '/Users/od721/Desktop/congestion_pricing/results/gurobi_cplex_comparison/seed_'\n",
    "        path_ =  head_ + str(seed) + '_k_' + str(n_commodity) + '.xlsx'\n",
    "        node_ls, arc_ls = [], []\n",
    "        gurobi_obj_ls, gurobi_gap_ls, gurobi_time_ls = [], [], []\n",
    "        cplex_obj_ls, cplex_gap_ls, cplex_time_ls = [], [], []\n",
    "        for opt in network_opts:\n",
    "\n",
    "            # get the instance\n",
    "            n_node, n_arc = opt\n",
    "            node_ls.append(n_node)\n",
    "            arc_ls.append(n_arc)\n",
    "            ins_ = random_instance.Instance(n_node, n_arc, n_commodity, seed)\n",
    "\n",
    "            # gurobi stats\n",
    "            gurobi_start = time.time()\n",
    "            obj_gurobi, gap_gurobi, _ = gurobi_base.optimize_by_gurobi(ins_, 3600)\n",
    "            gurobi_finish = time.time()\n",
    "            gurobi_obj_ls.append(round(obj_gurobi,2))\n",
    "            gurobi_gap_ls.append(round(gap_gurobi,2))\n",
    "            gurobi_time_ls.append(round(gurobi_finish-gurobi_start, 3))\n",
    "\n",
    "            # cplex stats\n",
    "            cplex_start = time.time()\n",
    "            obj_cplex, gap_cplex, _ = cplex_base.optimize_by_cplex(ins_, 3600)\n",
    "            cplex_finish = time.time()\n",
    "            cplex_obj_ls.append(round(obj_cplex,2))\n",
    "            cplex_gap_ls.append(round(gap_cplex,2))\n",
    "            cplex_time_ls.append(round(cplex_finish - cplex_start,3))\n",
    "\n",
    "        df = pd.DataFrame()\n",
    "        df['num_node'] = node_ls\n",
    "        df['num_arc'] = arc_ls\n",
    "        # df['gurobi obj'] = gurobi_obj_ls\n",
    "        # df['cplex obj'] = cplex_obj_ls\n",
    "        df['gurobi gap'] = gurobi_gap_ls\n",
    "        df['cplex gap'] = cplex_gap_ls\n",
    "        df['gurobi time (sec)'] = gurobi_time_ls\n",
    "        df['cplex time (sec)'] = cplex_time_ls\n",
    "        df.to_excel(path_, index=False)"
   ]
  }
 ],
 "metadata": {
  "kernelspec": {
   "display_name": "Python 3 (ipykernel)",
   "language": "python",
   "name": "python3"
  },
  "language_info": {
   "codemirror_mode": {
    "name": "ipython",
    "version": 3
   },
   "file_extension": ".py",
   "mimetype": "text/x-python",
   "name": "python",
   "nbconvert_exporter": "python",
   "pygments_lexer": "ipython3",
   "version": "3.9.7"
  }
 },
 "nbformat": 4,
 "nbformat_minor": 5
}
