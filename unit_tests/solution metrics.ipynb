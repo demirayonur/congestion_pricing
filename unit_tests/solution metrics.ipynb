{
 "cells": [
  {
   "cell_type": "code",
   "execution_count": 1,
   "id": "54ff039b",
   "metadata": {},
   "outputs": [],
   "source": [
    "import sys\n",
    "\n",
    "sys.path.insert(1, '/Users/od721/Desktop/congestion_pricing/src')\n",
    "\n",
    "import random_instance\n",
    "import solution_metrics\n",
    "\n",
    "import pandas as pd\n",
    "import numpy as np\n",
    "import time"
   ]
  },
  {
   "cell_type": "code",
   "execution_count": 2,
   "id": "0181f49e",
   "metadata": {},
   "outputs": [],
   "source": [
    "n_node, n_arc, n_commodity, seed = 20, 50, 5, 10"
   ]
  },
  {
   "cell_type": "code",
   "execution_count": 3,
   "id": "416fe9a5",
   "metadata": {},
   "outputs": [],
   "source": [
    "ins_ = random_instance.Instance(n_node, n_arc, n_commodity, seed)"
   ]
  },
  {
   "cell_type": "code",
   "execution_count": 4,
   "id": "558e99c1",
   "metadata": {
    "scrolled": true
   },
   "outputs": [
    {
     "name": "stdout",
     "output_type": "stream",
     "text": [
      "Set parameter Username\n",
      "Academic license - for non-commercial use only - expires 2022-07-12\n",
      "Set parameter TimeLimit to value 3600\n",
      "Gurobi Optimizer version 9.5.1 build v9.5.1rc2 (mac64[rosetta2])\n",
      "Thread count: 8 physical cores, 8 logical processors, using up to 8 threads\n",
      "Optimize a model with 350 rows, 420 columns and 1400 nonzeros\n",
      "Model fingerprint: 0xb4839b5a\n",
      "Model has 50 quadratic objective terms\n",
      "Variable types: 370 continuous, 50 integer (50 binary)\n",
      "Coefficient statistics:\n",
      "  Matrix range     [1e+00, 4e+02]\n",
      "  Objective range  [2e+00, 2e+00]\n",
      "  QObjective range [2e+00, 4e+00]\n",
      "  Bounds range     [1e+00, 1e+00]\n",
      "  RHS range        [2e+00, 4e+02]\n",
      "Found heuristic solution: objective 7930.3085045\n",
      "Presolve removed 69 rows and 88 columns\n",
      "Presolve time: 0.00s\n",
      "Presolved: 281 rows, 332 columns, 1184 nonzeros\n",
      "Presolved model has 45 quadratic objective terms\n",
      "Variable types: 292 continuous, 40 integer (40 binary)\n",
      "\n",
      "Root relaxation: objective 6.167109e+03, 378 iterations, 0.00 seconds (0.00 work units)\n",
      "\n",
      "    Nodes    |    Current Node    |     Objective Bounds      |     Work\n",
      " Expl Unexpl |  Obj  Depth IntInf | Incumbent    BestBd   Gap | It/Node Time\n",
      "\n",
      "     0     0 6167.10879    0    4 7930.30850 6167.10879  22.2%     -    0s\n",
      "H    0     0                    6326.4660268 6167.10879  2.52%     -    0s\n",
      "     0     0 6167.10879    0    4 6326.46603 6167.10879  2.52%     -    0s\n",
      "H    0     0                    6167.1087923 6167.10879  0.00%     -    0s\n",
      "\n",
      "Cutting planes:\n",
      "  Implied bound: 4\n",
      "  Clique: 1\n",
      "  MIR: 4\n",
      "  Flow cover: 3\n",
      "  Flow path: 5\n",
      "  Network: 2\n",
      "\n",
      "Explored 1 nodes (401 simplex iterations) in 0.03 seconds (0.01 work units)\n",
      "Thread count was 8 (of 8 available processors)\n",
      "\n",
      "Solution count 3: 6167.11 6326.47 7930.31 \n",
      "\n",
      "Optimal solution found (tolerance 1.00e-04)\n",
      "Best objective 6.167108792261e+03, best bound 6.167108792261e+03, gap 0.0000%\n"
     ]
    }
   ],
   "source": [
    "_, _, _, arc_util, num_eq, num_ineq, num_binding  = solution_metrics.optimize_with_solution_metrics(ins_, 3600, log_output=True)"
   ]
  },
  {
   "cell_type": "code",
   "execution_count": 5,
   "id": "3687e114",
   "metadata": {},
   "outputs": [
    {
     "data": {
      "text/plain": [
       "48.0"
      ]
     },
     "execution_count": 5,
     "metadata": {},
     "output_type": "execute_result"
    }
   ],
   "source": [
    "arc_util"
   ]
  },
  {
   "cell_type": "code",
   "execution_count": 6,
   "id": "fff8eddf",
   "metadata": {
    "scrolled": true
   },
   "outputs": [
    {
     "data": {
      "text/plain": [
       "100"
      ]
     },
     "execution_count": 6,
     "metadata": {},
     "output_type": "execute_result"
    }
   ],
   "source": [
    "num_eq"
   ]
  },
  {
   "cell_type": "code",
   "execution_count": 7,
   "id": "ab70ebdd",
   "metadata": {
    "scrolled": true
   },
   "outputs": [
    {
     "data": {
      "text/plain": [
       "200"
      ]
     },
     "execution_count": 7,
     "metadata": {},
     "output_type": "execute_result"
    }
   ],
   "source": [
    "num_ineq"
   ]
  },
  {
   "cell_type": "code",
   "execution_count": 8,
   "id": "0416cfd2",
   "metadata": {},
   "outputs": [
    {
     "data": {
      "text/plain": [
       "99"
      ]
     },
     "execution_count": 8,
     "metadata": {},
     "output_type": "execute_result"
    }
   ],
   "source": [
    "num_binding"
   ]
  },
  {
   "cell_type": "code",
   "execution_count": null,
   "id": "e9867daa",
   "metadata": {},
   "outputs": [],
   "source": []
  }
 ],
 "metadata": {
  "kernelspec": {
   "display_name": "Python 3 (ipykernel)",
   "language": "python",
   "name": "python3"
  },
  "language_info": {
   "codemirror_mode": {
    "name": "ipython",
    "version": 3
   },
   "file_extension": ".py",
   "mimetype": "text/x-python",
   "name": "python",
   "nbconvert_exporter": "python",
   "pygments_lexer": "ipython3",
   "version": "3.9.7"
  }
 },
 "nbformat": 4,
 "nbformat_minor": 5
}
