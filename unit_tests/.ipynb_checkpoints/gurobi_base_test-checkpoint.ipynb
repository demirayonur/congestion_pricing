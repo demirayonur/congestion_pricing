{
 "cells": [
  {
   "cell_type": "code",
   "execution_count": 1,
   "id": "beeb048d",
   "metadata": {},
   "outputs": [],
   "source": [
    "import sys\n",
    "\n",
    "sys.path.insert(1, '/Users/od721/Desktop/congestion_pricing/src')\n",
    "\n",
    "import random_instance\n",
    "import gurobi_base"
   ]
  },
  {
   "cell_type": "code",
   "execution_count": 2,
   "id": "b546f5d6",
   "metadata": {},
   "outputs": [],
   "source": [
    "n_node, n_arc, n_commodity, my_seed = 7,10,4,10"
   ]
  },
  {
   "cell_type": "code",
   "execution_count": 3,
   "id": "aeac4a3d",
   "metadata": {},
   "outputs": [],
   "source": [
    "our_instance = random_instance.Instance(n_node, n_arc, n_commodity, my_seed)"
   ]
  },
  {
   "cell_type": "code",
   "execution_count": 4,
   "id": "cb96bec2",
   "metadata": {},
   "outputs": [
    {
     "name": "stdout",
     "output_type": "stream",
     "text": [
      "Set parameter Username\n",
      "Academic license - for non-commercial use only - expires 2022-07-12\n",
      "Set parameter TimeLimit to value 3600\n"
     ]
    },
    {
     "ename": "TypeError",
     "evalue": "'dict' object cannot be interpreted as an integer",
     "output_type": "error",
     "traceback": [
      "\u001b[0;31m---------------------------------------------------------------------------\u001b[0m",
      "\u001b[0;31mTypeError\u001b[0m                                 Traceback (most recent call last)",
      "\u001b[0;32m/var/folders/_7/1s55gjjd28n89l4xlfxhlhz40000gp/T/ipykernel_34996/408005248.py\u001b[0m in \u001b[0;36m<module>\u001b[0;34m\u001b[0m\n\u001b[0;32m----> 1\u001b[0;31m \u001b[0mgurobi_base\u001b[0m\u001b[0;34m.\u001b[0m\u001b[0moptimize_by_gurobi\u001b[0m\u001b[0;34m(\u001b[0m\u001b[0mour_instance\u001b[0m\u001b[0;34m,\u001b[0m\u001b[0;36m3600\u001b[0m\u001b[0;34m)\u001b[0m\u001b[0;34m\u001b[0m\u001b[0;34m\u001b[0m\u001b[0m\n\u001b[0m",
      "\u001b[0;32m~/Desktop/congestion_pricing/src/gurobi_base.py\u001b[0m in \u001b[0;36moptimize_by_gurobi\u001b[0;34m(instance, timeLimit, export_model)\u001b[0m\n\u001b[1;32m     47\u001b[0m \u001b[0;34m\u001b[0m\u001b[0m\n\u001b[1;32m     48\u001b[0m     \u001b[0;31m# flow balance\u001b[0m\u001b[0;34m\u001b[0m\u001b[0;34m\u001b[0m\u001b[0m\n\u001b[0;32m---> 49\u001b[0;31m     \u001b[0;32mfor\u001b[0m \u001b[0mj\u001b[0m \u001b[0;32min\u001b[0m \u001b[0mrange\u001b[0m\u001b[0;34m(\u001b[0m\u001b[0mcommodity_dict\u001b[0m\u001b[0;34m)\u001b[0m\u001b[0;34m:\u001b[0m\u001b[0;34m\u001b[0m\u001b[0;34m\u001b[0m\u001b[0m\n\u001b[0m\u001b[1;32m     50\u001b[0m         \u001b[0morigin\u001b[0m\u001b[0;34m,\u001b[0m \u001b[0mdestination\u001b[0m\u001b[0;34m,\u001b[0m \u001b[0mdemand\u001b[0m \u001b[0;34m=\u001b[0m \u001b[0mcommodity_dict\u001b[0m\u001b[0;34m[\u001b[0m\u001b[0mj\u001b[0m\u001b[0;34m]\u001b[0m\u001b[0;34m\u001b[0m\u001b[0;34m\u001b[0m\u001b[0m\n\u001b[1;32m     51\u001b[0m         \u001b[0;32mfor\u001b[0m \u001b[0mi\u001b[0m \u001b[0;32min\u001b[0m \u001b[0mnodes\u001b[0m\u001b[0;34m:\u001b[0m\u001b[0;34m\u001b[0m\u001b[0;34m\u001b[0m\u001b[0m\n",
      "\u001b[0;31mTypeError\u001b[0m: 'dict' object cannot be interpreted as an integer"
     ]
    }
   ],
   "source": [
    "gurobi_base.optimize_by_gurobi(our_instance,3600)"
   ]
  }
 ],
 "metadata": {
  "kernelspec": {
   "display_name": "Python 3 (ipykernel)",
   "language": "python",
   "name": "python3"
  },
  "language_info": {
   "codemirror_mode": {
    "name": "ipython",
    "version": 3
   },
   "file_extension": ".py",
   "mimetype": "text/x-python",
   "name": "python",
   "nbconvert_exporter": "python",
   "pygments_lexer": "ipython3",
   "version": "3.9.7"
  }
 },
 "nbformat": 4,
 "nbformat_minor": 5
}
