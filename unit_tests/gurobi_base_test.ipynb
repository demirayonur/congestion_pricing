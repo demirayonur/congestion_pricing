{
 "cells": [
  {
   "cell_type": "code",
   "execution_count": 1,
   "id": "86f0328a",
   "metadata": {},
   "outputs": [],
   "source": [
    "import sys\n",
    "\n",
    "sys.path.insert(1, '/Users/od721/Desktop/congestion_pricing/src')\n",
    "\n",
    "import random_instance\n",
    "import gurobi_base"
   ]
  },
  {
   "cell_type": "code",
   "execution_count": 2,
   "id": "42656a41",
   "metadata": {},
   "outputs": [],
   "source": [
    "n_node, n_arc, n_commodity, my_seed = 20,40,5,10"
   ]
  },
  {
   "cell_type": "code",
   "execution_count": 3,
   "id": "c8ef8668",
   "metadata": {},
   "outputs": [],
   "source": [
    "our_instance = random_instance.Instance(n_node, n_arc, n_commodity, my_seed)"
   ]
  },
  {
   "cell_type": "code",
   "execution_count": 4,
   "id": "36df25a1",
   "metadata": {
    "scrolled": true
   },
   "outputs": [
    {
     "name": "stdout",
     "output_type": "stream",
     "text": [
      "Set parameter Username\n",
      "Academic license - for non-commercial use only - expires 2022-07-12\n"
     ]
    }
   ],
   "source": [
    "obj_val, gap_val, time = gurobi_base.optimize_by_gurobi(our_instance,3600, log_output=False)"
   ]
  },
  {
   "cell_type": "code",
   "execution_count": 5,
   "id": "e9e02c03",
   "metadata": {},
   "outputs": [
    {
     "data": {
      "text/plain": [
       "6988.553583568079"
      ]
     },
     "execution_count": 5,
     "metadata": {},
     "output_type": "execute_result"
    }
   ],
   "source": [
    "obj_val"
   ]
  },
  {
   "cell_type": "code",
   "execution_count": 6,
   "id": "65f5001b",
   "metadata": {},
   "outputs": [
    {
     "data": {
      "text/plain": [
       "0.0"
      ]
     },
     "execution_count": 6,
     "metadata": {},
     "output_type": "execute_result"
    }
   ],
   "source": [
    "gap_val"
   ]
  },
  {
   "cell_type": "code",
   "execution_count": 7,
   "id": "914d2725",
   "metadata": {},
   "outputs": [
    {
     "data": {
      "text/plain": [
       "0.009476184844970703"
      ]
     },
     "execution_count": 7,
     "metadata": {},
     "output_type": "execute_result"
    }
   ],
   "source": [
    "time"
   ]
  }
 ],
 "metadata": {
  "kernelspec": {
   "display_name": "Python 3 (ipykernel)",
   "language": "python",
   "name": "python3"
  },
  "language_info": {
   "codemirror_mode": {
    "name": "ipython",
    "version": 3
   },
   "file_extension": ".py",
   "mimetype": "text/x-python",
   "name": "python",
   "nbconvert_exporter": "python",
   "pygments_lexer": "ipython3",
   "version": "3.9.7"
  }
 },
 "nbformat": 4,
 "nbformat_minor": 5
}
